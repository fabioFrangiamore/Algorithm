{
 "cells": [
  {
   "cell_type": "raw",
   "metadata": {},
   "source": [
    "This problem was asked by Google.\n",
    "\n",
    "Given the root to a binary tree, implement serialize(root), which serializes the tree into a string, and deserialize(s), which deserializes the string back into the tree.\n",
    "\n",
    "For example, given the following Node class\n",
    "\n",
    "class Node:\n",
    "    def __init__(self, val, left=None, right=None):\n",
    "        self.val = val\n",
    "        self.left = left\n",
    "        self.right = right\n",
    "        \n",
    "The following test should pass:\n",
    "\n",
    "node = Node('root', Node('left', Node('left.left')), Node('right'))\n",
    "assert deserialize(serialize(node)).left.left.val == 'left.left'\n"
   ]
  },
  {
   "cell_type": "code",
   "execution_count": 4,
   "metadata": {},
   "outputs": [
    {
     "name": "stdout",
     "output_type": "stream",
     "text": [
      "1,1\n",
      "1,?,1,?,?\n",
      "1,?,1,?,?\n"
     ]
    }
   ],
   "source": [
    "class Node:\n",
    "    def __init__(self, value):\n",
    "        self.left = None\n",
    "        self.right = None\n",
    "        self.value = value\n",
    "\n",
    "class Tree:\n",
    "    def __init__(self):\n",
    "        self.root = None\n",
    "\n",
    "    def addNode(self, node, value):\n",
    "        if node == None:\n",
    "            self.root = Node(value)\n",
    "        else:\n",
    "            if value < node.value:\n",
    "                if not node.left:\n",
    "                    node.left = Node(value)\n",
    "                else:\n",
    "                    self.addNode(node.left, value)\n",
    "            else:\n",
    "                if not node.right:\n",
    "                    node.right = Node(value)\n",
    "                else:\n",
    "                    self.addNode(node.right, value)\n",
    "\n",
    "\n",
    "def serialize(root):\n",
    "    values = []\n",
    "    def serializer(node):\n",
    "        if not node:\n",
    "            values.append('?')\n",
    "        else:\n",
    "            values.append(str(node.value))\n",
    "            serializer(node.left)\n",
    "            serializer(node.right)\n",
    "    serializer(root)\n",
    "    return ','.join(values)\n",
    "\n",
    "def deserialize(s):\n",
    "    values = iter(s.split(','))\n",
    "    def deserializer():\n",
    "        val = next(values)\n",
    "        if val == '?':\n",
    "            return None\n",
    "        else:\n",
    "            node = Node(int(val))\n",
    "            node.left = deserializer()\n",
    "            node.right = deserializer()\n",
    "            return node\n",
    "    return deserializer()\n",
    "\n",
    "if __name__ == '__main__':\n",
    "    # Read input, numbers separated by commas\n",
    "    numbers = [int(n) for n in input().split(',')]\n",
    "    theTree = Tree()\n",
    "    for number in numbers:\n",
    "        theTree.addNode(theTree.root, number)\n",
    "    s1 = serialize(theTree.root)\n",
    "    s2 = serialize(deserialize(s1))\n",
    "    print(s1) \n",
    "    print(s2)\n",
    "    assert s1 == s2"
   ]
  },
  {
   "cell_type": "code",
   "execution_count": null,
   "metadata": {},
   "outputs": [],
   "source": []
  }
 ],
 "metadata": {
  "kernelspec": {
   "display_name": "Python 3",
   "language": "python",
   "name": "python3"
  },
  "language_info": {
   "codemirror_mode": {
    "name": "ipython",
    "version": 3
   },
   "file_extension": ".py",
   "mimetype": "text/x-python",
   "name": "python",
   "nbconvert_exporter": "python",
   "pygments_lexer": "ipython3",
   "version": "3.6.1"
  }
 },
 "nbformat": 4,
 "nbformat_minor": 2
}
